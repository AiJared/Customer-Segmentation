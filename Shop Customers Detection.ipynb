{
 "cells": [
  {
   "cell_type": "markdown",
   "id": "0a9d8bd4",
   "metadata": {},
   "source": [
    "# Customer Spending\n",
    "\n",
    "This Data Science Project predicts customer spending rating on a scale of 1 to 100 based on a number of factors such as age, gender, career, income etc.\n",
    "\n",
    "From this model a shopkeeper can tell long term and short term customers given the information on how frequent they buy from the shop."
   ]
  },
  {
   "cell_type": "code",
   "execution_count": 1,
   "id": "b50373ef",
   "metadata": {},
   "outputs": [],
   "source": [
    "import pandas as pd\n",
    "import numpy as np\n",
    "import matplotlib.pyplot as plt\n",
    "\n",
    "from pathlib import Path\n",
    "from sklearn.model_selection import train_test_split\n",
    "from sklearn import metrics\n",
    "from sklearn.metrics import accuracy_score\n",
    "from sklearn.svm import SVR\n",
    "from sklearn.linear_model import LinearRegression\n",
    "from sklearn.tree import DecisionTreeRegressor\n",
    "from sklearn.ensemble import RandomForestRegressor\n",
    "from sklearn.preprocessing import LabelEncoder"
   ]
  },
  {
   "cell_type": "code",
   "execution_count": 3,
   "id": "11acb04f",
   "metadata": {},
   "outputs": [
    {
     "data": {
      "text/html": [
       "<div>\n",
       "<style scoped>\n",
       "    .dataframe tbody tr th:only-of-type {\n",
       "        vertical-align: middle;\n",
       "    }\n",
       "\n",
       "    .dataframe tbody tr th {\n",
       "        vertical-align: top;\n",
       "    }\n",
       "\n",
       "    .dataframe thead th {\n",
       "        text-align: right;\n",
       "    }\n",
       "</style>\n",
       "<table border=\"1\" class=\"dataframe\">\n",
       "  <thead>\n",
       "    <tr style=\"text-align: right;\">\n",
       "      <th></th>\n",
       "      <th>CustomerID</th>\n",
       "      <th>Gender</th>\n",
       "      <th>Age</th>\n",
       "      <th>Annual Income ($)</th>\n",
       "      <th>Profession</th>\n",
       "      <th>Work Experience</th>\n",
       "      <th>Family Size</th>\n",
       "      <th>Spending Score (1-100)</th>\n",
       "    </tr>\n",
       "  </thead>\n",
       "  <tbody>\n",
       "    <tr>\n",
       "      <th>0</th>\n",
       "      <td>1</td>\n",
       "      <td>Male</td>\n",
       "      <td>19</td>\n",
       "      <td>15000</td>\n",
       "      <td>Healthcare</td>\n",
       "      <td>1</td>\n",
       "      <td>4</td>\n",
       "      <td>39</td>\n",
       "    </tr>\n",
       "    <tr>\n",
       "      <th>1</th>\n",
       "      <td>2</td>\n",
       "      <td>Male</td>\n",
       "      <td>21</td>\n",
       "      <td>35000</td>\n",
       "      <td>Engineer</td>\n",
       "      <td>3</td>\n",
       "      <td>3</td>\n",
       "      <td>81</td>\n",
       "    </tr>\n",
       "    <tr>\n",
       "      <th>2</th>\n",
       "      <td>3</td>\n",
       "      <td>Female</td>\n",
       "      <td>20</td>\n",
       "      <td>86000</td>\n",
       "      <td>Engineer</td>\n",
       "      <td>1</td>\n",
       "      <td>1</td>\n",
       "      <td>6</td>\n",
       "    </tr>\n",
       "    <tr>\n",
       "      <th>3</th>\n",
       "      <td>4</td>\n",
       "      <td>Female</td>\n",
       "      <td>23</td>\n",
       "      <td>59000</td>\n",
       "      <td>Lawyer</td>\n",
       "      <td>0</td>\n",
       "      <td>2</td>\n",
       "      <td>77</td>\n",
       "    </tr>\n",
       "    <tr>\n",
       "      <th>4</th>\n",
       "      <td>5</td>\n",
       "      <td>Female</td>\n",
       "      <td>31</td>\n",
       "      <td>38000</td>\n",
       "      <td>Entertainment</td>\n",
       "      <td>2</td>\n",
       "      <td>6</td>\n",
       "      <td>40</td>\n",
       "    </tr>\n",
       "    <tr>\n",
       "      <th>...</th>\n",
       "      <td>...</td>\n",
       "      <td>...</td>\n",
       "      <td>...</td>\n",
       "      <td>...</td>\n",
       "      <td>...</td>\n",
       "      <td>...</td>\n",
       "      <td>...</td>\n",
       "      <td>...</td>\n",
       "    </tr>\n",
       "    <tr>\n",
       "      <th>1995</th>\n",
       "      <td>1996</td>\n",
       "      <td>Female</td>\n",
       "      <td>71</td>\n",
       "      <td>184387</td>\n",
       "      <td>Artist</td>\n",
       "      <td>8</td>\n",
       "      <td>7</td>\n",
       "      <td>40</td>\n",
       "    </tr>\n",
       "    <tr>\n",
       "      <th>1996</th>\n",
       "      <td>1997</td>\n",
       "      <td>Female</td>\n",
       "      <td>91</td>\n",
       "      <td>73158</td>\n",
       "      <td>Doctor</td>\n",
       "      <td>7</td>\n",
       "      <td>7</td>\n",
       "      <td>32</td>\n",
       "    </tr>\n",
       "    <tr>\n",
       "      <th>1997</th>\n",
       "      <td>1998</td>\n",
       "      <td>Male</td>\n",
       "      <td>87</td>\n",
       "      <td>90961</td>\n",
       "      <td>Healthcare</td>\n",
       "      <td>9</td>\n",
       "      <td>2</td>\n",
       "      <td>14</td>\n",
       "    </tr>\n",
       "    <tr>\n",
       "      <th>1998</th>\n",
       "      <td>1999</td>\n",
       "      <td>Male</td>\n",
       "      <td>77</td>\n",
       "      <td>182109</td>\n",
       "      <td>Executive</td>\n",
       "      <td>7</td>\n",
       "      <td>2</td>\n",
       "      <td>4</td>\n",
       "    </tr>\n",
       "    <tr>\n",
       "      <th>1999</th>\n",
       "      <td>2000</td>\n",
       "      <td>Male</td>\n",
       "      <td>90</td>\n",
       "      <td>110610</td>\n",
       "      <td>Entertainment</td>\n",
       "      <td>5</td>\n",
       "      <td>2</td>\n",
       "      <td>52</td>\n",
       "    </tr>\n",
       "  </tbody>\n",
       "</table>\n",
       "<p>2000 rows × 8 columns</p>\n",
       "</div>"
      ],
      "text/plain": [
       "      CustomerID  Gender  Age  Annual Income ($)     Profession  \\\n",
       "0              1    Male   19              15000     Healthcare   \n",
       "1              2    Male   21              35000       Engineer   \n",
       "2              3  Female   20              86000       Engineer   \n",
       "3              4  Female   23              59000         Lawyer   \n",
       "4              5  Female   31              38000  Entertainment   \n",
       "...          ...     ...  ...                ...            ...   \n",
       "1995        1996  Female   71             184387         Artist   \n",
       "1996        1997  Female   91              73158         Doctor   \n",
       "1997        1998    Male   87              90961     Healthcare   \n",
       "1998        1999    Male   77             182109      Executive   \n",
       "1999        2000    Male   90             110610  Entertainment   \n",
       "\n",
       "      Work Experience  Family Size  Spending Score (1-100)  \n",
       "0                   1            4                      39  \n",
       "1                   3            3                      81  \n",
       "2                   1            1                       6  \n",
       "3                   0            2                      77  \n",
       "4                   2            6                      40  \n",
       "...               ...          ...                     ...  \n",
       "1995                8            7                      40  \n",
       "1996                7            7                      32  \n",
       "1997                9            2                      14  \n",
       "1998                7            2                       4  \n",
       "1999                5            2                      52  \n",
       "\n",
       "[2000 rows x 8 columns]"
      ]
     },
     "execution_count": 3,
     "metadata": {},
     "output_type": "execute_result"
    }
   ],
   "source": [
    "# load the dataset\n",
    "dataset = pd.read_csv(\"Customers.csv\")\n",
    "df = pd.DataFrame(dataset)\n",
    "df"
   ]
  },
  {
   "cell_type": "markdown",
   "id": "fa316a01",
   "metadata": {},
   "source": [
    "## Preparing and Exploring Data "
   ]
  },
  {
   "cell_type": "code",
   "execution_count": 4,
   "id": "6d3f1037",
   "metadata": {},
   "outputs": [
    {
     "name": "stdout",
     "output_type": "stream",
     "text": [
      "Rows:  2000\n",
      "Columns:  8 \n",
      "\n",
      "Subset of the dataset: \n",
      "    CustomerID  Gender  Age  Annual Income ($)     Profession  Work Experience  \\\n",
      "0           1    Male   19              15000     Healthcare                1   \n",
      "1           2    Male   21              35000       Engineer                3   \n",
      "2           3  Female   20              86000       Engineer                1   \n",
      "3           4  Female   23              59000         Lawyer                0   \n",
      "4           5  Female   31              38000  Entertainment                2   \n",
      "\n",
      "   Family Size  Spending Score (1-100)  \n",
      "0            4                      39  \n",
      "1            3                      81  \n",
      "2            1                       6  \n",
      "3            2                      77  \n",
      "4            6                      40   \n",
      "\n"
     ]
    }
   ],
   "source": [
    "print(\"Rows: \", df.shape[0])\n",
    "print(\"Columns: \", df.shape[1], \"\\n\")\n",
    "print(\"Subset of the dataset: \\n\", df.head(), \"\\n\")"
   ]
  },
  {
   "cell_type": "code",
   "execution_count": 5,
   "id": "99cc6a84",
   "metadata": {},
   "outputs": [
    {
     "data": {
      "text/html": [
       "<div>\n",
       "<style scoped>\n",
       "    .dataframe tbody tr th:only-of-type {\n",
       "        vertical-align: middle;\n",
       "    }\n",
       "\n",
       "    .dataframe tbody tr th {\n",
       "        vertical-align: top;\n",
       "    }\n",
       "\n",
       "    .dataframe thead th {\n",
       "        text-align: right;\n",
       "    }\n",
       "</style>\n",
       "<table border=\"1\" class=\"dataframe\">\n",
       "  <thead>\n",
       "    <tr style=\"text-align: right;\">\n",
       "      <th></th>\n",
       "      <th>CustomerID</th>\n",
       "      <th>Age</th>\n",
       "      <th>Annual Income ($)</th>\n",
       "      <th>Work Experience</th>\n",
       "      <th>Family Size</th>\n",
       "      <th>Spending Score (1-100)</th>\n",
       "    </tr>\n",
       "  </thead>\n",
       "  <tbody>\n",
       "    <tr>\n",
       "      <th>count</th>\n",
       "      <td>2000.000000</td>\n",
       "      <td>2000.000000</td>\n",
       "      <td>2000.000000</td>\n",
       "      <td>2000.000000</td>\n",
       "      <td>2000.000000</td>\n",
       "      <td>2000.000000</td>\n",
       "    </tr>\n",
       "    <tr>\n",
       "      <th>mean</th>\n",
       "      <td>1000.500000</td>\n",
       "      <td>48.960000</td>\n",
       "      <td>110731.821500</td>\n",
       "      <td>4.102500</td>\n",
       "      <td>3.768500</td>\n",
       "      <td>50.962500</td>\n",
       "    </tr>\n",
       "    <tr>\n",
       "      <th>std</th>\n",
       "      <td>577.494589</td>\n",
       "      <td>28.429747</td>\n",
       "      <td>45739.536688</td>\n",
       "      <td>3.922204</td>\n",
       "      <td>1.970749</td>\n",
       "      <td>27.934661</td>\n",
       "    </tr>\n",
       "    <tr>\n",
       "      <th>min</th>\n",
       "      <td>1.000000</td>\n",
       "      <td>0.000000</td>\n",
       "      <td>0.000000</td>\n",
       "      <td>0.000000</td>\n",
       "      <td>1.000000</td>\n",
       "      <td>0.000000</td>\n",
       "    </tr>\n",
       "    <tr>\n",
       "      <th>25%</th>\n",
       "      <td>500.750000</td>\n",
       "      <td>25.000000</td>\n",
       "      <td>74572.000000</td>\n",
       "      <td>1.000000</td>\n",
       "      <td>2.000000</td>\n",
       "      <td>28.000000</td>\n",
       "    </tr>\n",
       "    <tr>\n",
       "      <th>50%</th>\n",
       "      <td>1000.500000</td>\n",
       "      <td>48.000000</td>\n",
       "      <td>110045.000000</td>\n",
       "      <td>3.000000</td>\n",
       "      <td>4.000000</td>\n",
       "      <td>50.000000</td>\n",
       "    </tr>\n",
       "    <tr>\n",
       "      <th>75%</th>\n",
       "      <td>1500.250000</td>\n",
       "      <td>73.000000</td>\n",
       "      <td>149092.750000</td>\n",
       "      <td>7.000000</td>\n",
       "      <td>5.000000</td>\n",
       "      <td>75.000000</td>\n",
       "    </tr>\n",
       "    <tr>\n",
       "      <th>max</th>\n",
       "      <td>2000.000000</td>\n",
       "      <td>99.000000</td>\n",
       "      <td>189974.000000</td>\n",
       "      <td>17.000000</td>\n",
       "      <td>9.000000</td>\n",
       "      <td>100.000000</td>\n",
       "    </tr>\n",
       "  </tbody>\n",
       "</table>\n",
       "</div>"
      ],
      "text/plain": [
       "        CustomerID          Age  Annual Income ($)  Work Experience  \\\n",
       "count  2000.000000  2000.000000        2000.000000      2000.000000   \n",
       "mean   1000.500000    48.960000      110731.821500         4.102500   \n",
       "std     577.494589    28.429747       45739.536688         3.922204   \n",
       "min       1.000000     0.000000           0.000000         0.000000   \n",
       "25%     500.750000    25.000000       74572.000000         1.000000   \n",
       "50%    1000.500000    48.000000      110045.000000         3.000000   \n",
       "75%    1500.250000    73.000000      149092.750000         7.000000   \n",
       "max    2000.000000    99.000000      189974.000000        17.000000   \n",
       "\n",
       "       Family Size  Spending Score (1-100)  \n",
       "count  2000.000000             2000.000000  \n",
       "mean      3.768500               50.962500  \n",
       "std       1.970749               27.934661  \n",
       "min       1.000000                0.000000  \n",
       "25%       2.000000               28.000000  \n",
       "50%       4.000000               50.000000  \n",
       "75%       5.000000               75.000000  \n",
       "max       9.000000              100.000000  "
      ]
     },
     "execution_count": 5,
     "metadata": {},
     "output_type": "execute_result"
    }
   ],
   "source": [
    "df.describe()"
   ]
  },
  {
   "cell_type": "code",
   "execution_count": 6,
   "id": "dda15cad",
   "metadata": {},
   "outputs": [
    {
     "name": "stdout",
     "output_type": "stream",
     "text": [
      "<class 'pandas.core.frame.DataFrame'>\n",
      "RangeIndex: 2000 entries, 0 to 1999\n",
      "Data columns (total 8 columns):\n",
      " #   Column                  Non-Null Count  Dtype \n",
      "---  ------                  --------------  ----- \n",
      " 0   CustomerID              2000 non-null   int64 \n",
      " 1   Gender                  2000 non-null   object\n",
      " 2   Age                     2000 non-null   int64 \n",
      " 3   Annual Income ($)       2000 non-null   int64 \n",
      " 4   Profession              1965 non-null   object\n",
      " 5   Work Experience         2000 non-null   int64 \n",
      " 6   Family Size             2000 non-null   int64 \n",
      " 7   Spending Score (1-100)  2000 non-null   int64 \n",
      "dtypes: int64(6), object(2)\n",
      "memory usage: 125.1+ KB\n"
     ]
    }
   ],
   "source": [
    "df.info()"
   ]
  },
  {
   "cell_type": "code",
   "execution_count": 7,
   "id": "10cf6a06",
   "metadata": {},
   "outputs": [
    {
     "name": "stdout",
     "output_type": "stream",
     "text": [
      "{'CustomerID': 1, 'Gender': 'Female', 'Age': 31.0, 'Annual Income ($)': 9000.0, 'Profession': 'Artist', 'Work Experience': 1.0, 'Family Size': 2.0, 'Spending Score (1-100)': 49.0}\n"
     ]
    }
   ],
   "source": [
    "# fill missing values\n",
    "train_mode = dict(df.mode().iloc[0])\n",
    "df = df.fillna(train_mode)\n",
    "print(train_mode)"
   ]
  },
  {
   "cell_type": "code",
   "execution_count": 9,
   "id": "bae76f19",
   "metadata": {},
   "outputs": [
    {
     "name": "stdout",
     "output_type": "stream",
     "text": [
      "CustomerID                0\n",
      "Gender                    0\n",
      "Age                       0\n",
      "Annual Income ($)         0\n",
      "Profession                0\n",
      "Work Experience           0\n",
      "Family Size               0\n",
      "Spending Score (1-100)    0\n",
      "dtype: int64\n"
     ]
    }
   ],
   "source": [
    "print(df.isnull().sum())"
   ]
  },
  {
   "cell_type": "markdown",
   "id": "9910124c",
   "metadata": {},
   "source": [
    "## Saving Figures as png Images\n",
    "Below is an extra code that will save plot figures as png image files"
   ]
  },
  {
   "cell_type": "code",
   "execution_count": 16,
   "id": "1701ea01",
   "metadata": {},
   "outputs": [],
   "source": [
    "IMAGES_PATH = Path() / \"images\" / \"end_to_end_project\"\n",
    "IMAGES_PATH.mkdir(parents=True, exist_ok=True)\n",
    "\n",
    "def save_fig(fig_id, tight_layout=True, fig_extension=\"png\", resolution=300):\n",
    "    path = IMAGES_PATH / f\"{fig_id}.{fig_extension}\"\n",
    "    if tight_layout:\n",
    "        plt.tight_layout()\n",
    "    plt.savefig(path, format=fig_extension, dpi=resolution)"
   ]
  },
  {
   "cell_type": "markdown",
   "id": "dcb553dd",
   "metadata": {},
   "source": [
    "### Check for Duplicate Values"
   ]
  },
  {
   "cell_type": "code",
   "execution_count": 12,
   "id": "b0e50eff",
   "metadata": {},
   "outputs": [
    {
     "name": "stdout",
     "output_type": "stream",
     "text": [
      "False\n",
      "Number of duplicated data:  0\n"
     ]
    }
   ],
   "source": [
    "print(df.duplicated().any())\n",
    "duplicated_data = df.duplicated()\n",
    "print(\"Number of duplicated data: \", duplicated_data[duplicated_data == True].size)"
   ]
  },
  {
   "cell_type": "markdown",
   "id": "78032fcb",
   "metadata": {},
   "source": [
    "### Correlation"
   ]
  },
  {
   "cell_type": "code",
   "execution_count": 17,
   "id": "029420f1",
   "metadata": {},
   "outputs": [
    {
     "name": "stdout",
     "output_type": "stream",
     "text": [
      "Correlation\n",
      "Spending Score (1-100)    1.000000\n",
      "Annual Income ($)         0.023299\n",
      "CustomerID                0.018936\n",
      "Family Size               0.002232\n",
      "Work Experience          -0.028948\n",
      "Age                      -0.041798\n",
      "Name: Spending Score (1-100), dtype: float64\n"
     ]
    },
    {
     "data": {
      "image/png": "[encoded data removed]",
      "text/plain": [
       "<Figure size 432x288 with 2 Axes>"
      ]
     },
     "metadata": {
      "needs_background": "light"
     },
     "output_type": "display_data"
    }
   ],
   "source": [
    "# check for correlation\n",
    "import seaborn as sns\n",
    "\n",
    "print(\"Correlation\")\n",
    "print(df.corr()[\"Spending Score (1-100)\"].sort_values(ascending=False))\n",
    "sns.heatmap(df.corr(), annot=True, cmap=\"RdBu\")\n",
    "save_fig(\"correlation\")\n",
    "plt.show()"
   ]
  },
  {
   "cell_type": "markdown",
   "id": "896b12e9",
   "metadata": {},
   "source": [
    "### Data Visualization"
   ]
  },
  {
   "cell_type": "code",
   "execution_count": 18,
   "id": "083dad6c",
   "metadata": {},
   "outputs": [
    {
     "data": {
      "image/png": "[encoded data removed]",
      "text/plain": [
       "<Figure size 432x288 with 6 Axes>"
      ]
     },
     "metadata": {
      "needs_background": "light"
     },
     "output_type": "display_data"
    }
   ],
   "source": [
    "# Plot a histogram to visualize the dataset\n",
    "df.hist()\n",
    "save_fig(\"customers_data_visualization\")\n",
    "plt.show()"
   ]
  },
  {
   "cell_type": "markdown",
   "id": "fb423871",
   "metadata": {},
   "source": [
    "from the histograms above, work experience is positively skewed evident by tail on the right side of the distribution, family size is bimodal, as shown with two distict peaks while spending score and annual income are random due to no presence of any informative pattern."
   ]
  },
  {
   "cell_type": "code",
   "execution_count": 21,
   "id": "c50129ff",
   "metadata": {},
   "outputs": [],
   "source": [
    "# convert categoricals\n",
    "encoders = {}\n",
    "for column in [\"Gender\", \"Profession\"]:\n",
    "    categorical_convert = LabelEncoder()\n",
    "    df[column] = categorical_convert.fit_transform(df[column])\n",
    "    encoders[column] = categorical_convert"
   ]
  },
  {
   "cell_type": "markdown",
   "id": "4a765c9e",
   "metadata": {},
   "source": [
    "### Splitting the Dataset"
   ]
  },
  {
   "cell_type": "code",
   "execution_count": 22,
   "id": "240b7225",
   "metadata": {},
   "outputs": [],
   "source": [
    "x_cols = [c for c in df.columns if c != \"Spending Score (1-100)\"]\n",
    "# set input matrix and target column\n",
    "X = df[x_cols]\n",
    "y = df[\"Spending Score (1-100)\"]"
   ]
  },
  {
   "cell_type": "code",
   "execution_count": 23,
   "id": "36597e40",
   "metadata": {},
   "outputs": [
    {
     "name": "stdout",
     "output_type": "stream",
     "text": [
      "      CustomerID  Gender  Age  Annual Income ($)  Profession  Work Experience  \\\n",
      "0              1       1   19              15000           5                1   \n",
      "1              2       1   21              35000           2                3   \n",
      "2              3       0   20              86000           2                1   \n",
      "3              4       0   23              59000           7                0   \n",
      "4              5       0   31              38000           3                2   \n",
      "...          ...     ...  ...                ...         ...              ...   \n",
      "1995        1996       0   71             184387           0                8   \n",
      "1996        1997       0   91              73158           1                7   \n",
      "1997        1998       1   87              90961           5                9   \n",
      "1998        1999       1   77             182109           4                7   \n",
      "1999        2000       1   90             110610           3                5   \n",
      "\n",
      "      Family Size  \n",
      "0               4  \n",
      "1               3  \n",
      "2               1  \n",
      "3               2  \n",
      "4               6  \n",
      "...           ...  \n",
      "1995            7  \n",
      "1996            7  \n",
      "1997            2  \n",
      "1998            2  \n",
      "1999            2  \n",
      "\n",
      "[2000 rows x 7 columns]\n",
      "0       39\n",
      "1       81\n",
      "2        6\n",
      "3       77\n",
      "4       40\n",
      "        ..\n",
      "1995    40\n",
      "1996    32\n",
      "1997    14\n",
      "1998     4\n",
      "1999    52\n",
      "Name: Spending Score (1-100), Length: 2000, dtype: int64\n"
     ]
    }
   ],
   "source": [
    "print(X)\n",
    "print(y)"
   ]
  },
  {
   "cell_type": "markdown",
   "id": "212e0fe8",
   "metadata": {},
   "source": [
    "## Training the Model\n",
    "\n",
    "### Linear Regression"
   ]
  },
  {
   "cell_type": "code",
   "execution_count": 26,
   "id": "0b0b60e8",
   "metadata": {},
   "outputs": [
    {
     "name": "stdout",
     "output_type": "stream",
     "text": [
      "(1600, 7)\n",
      "(1600,)\n"
     ]
    }
   ],
   "source": [
    "X_train, X_test, y_train, y_test = train_test_split(X,y, test_size=0.2, random_state=42)\n",
    "print(X_train.shape)\n",
    "print(y_train.shape)"
   ]
  },
  {
   "cell_type": "code",
   "execution_count": 27,
   "id": "0de1402d",
   "metadata": {},
   "outputs": [
    {
     "name": "stdout",
     "output_type": "stream",
     "text": [
      "[50.05655041 48.84014039 49.52018711 46.48038629 46.28367931 53.53464018\n",
      " 53.49436364 54.97270925 51.96632025 52.06170985 46.11255862 53.44618592\n",
      " 53.11263105 44.7266177  49.92592837 46.85797998 57.90341535 50.99403222\n",
      " 52.30085086 51.24228741 51.45935039 48.14161246 52.46186792 56.61988533\n",
      " 45.63509245 52.77773595 47.40977597 47.24368627 50.59755055 51.39434433\n",
      " 50.39487553 52.91390004 51.5086936  54.199768   48.51127628 49.16677704\n",
      " 49.14192557 50.55030098 51.78290768 49.38221711 48.15304925 48.7560067\n",
      " 50.58335511 51.17949078 49.60381321 49.20116044 50.58285155 45.76149253\n",
      " 46.52858361 56.01287356 54.81985512 52.56953539 52.48497609 43.79949933\n",
      " 47.62935284 51.35798161 51.34826914 48.02480509 47.28736502 48.35889608\n",
      " 51.14722516 50.66417869 49.88857975 51.19699062 50.94283257 51.03148463\n",
      " 53.5550627  51.8740285  54.1993434  54.12690569 52.41971197 58.10022175\n",
      " 54.8717273  52.67489881 50.06618481 50.46052506 49.6861577  52.52594998\n",
      " 45.92998819 51.25402967 50.06695393 46.57369547 53.5091963  48.3110733\n",
      " 55.74426878 51.38626852 48.58748693 51.62292187 48.30860827 49.68307795\n",
      " 51.77774857 56.88721095 54.04343478 50.40629943 54.36499988 49.94148061\n",
      " 49.90456592 51.04849463 48.26296817 48.09274359 54.42396113 50.26987841\n",
      " 55.77376079 48.71590704 54.51307885 53.84235581 49.63115597 48.82623611\n",
      " 55.20053529 52.6036936  49.79108867 49.8451779  56.11861712 54.18149171\n",
      " 47.82719414 54.23297445 49.26604022 50.38812855 46.2487488  49.28113721\n",
      " 56.26254598 52.17897078 52.7503694  52.37435495 49.65301762 51.71964325\n",
      " 47.03497296 51.38433909 53.31842031 53.94193048 51.68402127 51.34847216\n",
      " 52.80974104 54.07151236 48.50771638 51.59751846 49.44157536 53.68899261\n",
      " 53.96217537 55.35058519 54.79603302 53.1853844  52.72990619 53.93980405\n",
      " 51.48279755 53.38054907 55.16746731 53.59332767 46.53097647 51.20925441\n",
      " 49.7386776  50.97557785 50.00422236 53.18770704 53.14212453 49.79834086\n",
      " 53.64966767 54.56410149 51.70814982 53.22469543 46.63617533 53.13042642\n",
      " 44.50457948 53.24187425 50.31691912 47.41645927 52.60355339 51.07450404\n",
      " 54.49918735 53.76719954 53.13386856 50.75502689 51.41761554 53.57612044\n",
      " 46.66575684 46.25278228 48.27867794 51.59278655 55.84716148 52.39098847\n",
      " 50.78991156 53.07132209 51.07076783 52.21951185 51.60094562 49.75049381\n",
      " 54.47417493 58.7648142  49.9295198  52.58452156 50.53698694 49.18741882\n",
      " 52.86687212 46.56229096 51.78956822 51.23525963 52.31265596 49.47258493\n",
      " 45.22688983 52.01366805 52.24021511 51.83653845 53.11568342 52.03854275\n",
      " 47.74877717 49.92816257 51.05902993 49.38917017 51.0457622  52.72344882\n",
      " 51.50373457 47.46393413 47.89309212 49.60548573 53.01631408 46.66334517\n",
      " 51.38138379 53.28194742 54.11241398 50.36973135 47.13554931 53.73732406\n",
      " 46.54061887 53.76588995 47.63964461 52.15660838 53.66226372 54.2607703\n",
      " 52.3889868  48.36794189 51.47547103 52.1647755  51.72869992 50.62969459\n",
      " 48.33073018 52.75186619 50.18143966 51.32674305 52.16200785 52.1982204\n",
      " 54.06419966 51.74805975 49.96356197 53.08527959 53.07235609 48.53761203\n",
      " 51.84852126 52.78853085 51.22237476 51.03904278 48.80791327 47.30361982\n",
      " 54.43315859 54.9315637  52.79022006 47.73511675 52.17006663 48.63640597\n",
      " 50.62097376 48.17377365 53.2544867  51.62999365 49.17409243 47.87881977\n",
      " 48.61605439 51.91920162 47.16100101 49.77215942 46.77528818 50.3259269\n",
      " 49.74056763 47.48480095 45.64709394 54.22217463 52.04976582 46.7779048\n",
      " 48.88102661 52.76665194 53.19084477 46.39580427 48.4075322  54.24013096\n",
      " 52.65860459 51.29157237 47.07247411 47.91845479 55.0892005  47.03534398\n",
      " 44.65669731 51.26633819 56.66439378 51.81118073 53.15677556 55.45595681\n",
      " 47.67168762 48.56949709 47.04520199 51.7437565  51.213374   55.03234123\n",
      " 51.56587783 52.77783121 47.23868679 50.66807786 53.20504801 49.70877144\n",
      " 52.19365811 50.88841937 46.12580736 52.06450755 53.91582146 50.354328\n",
      " 49.25423698 51.43125369 49.08783243 51.88643348 55.72654979 52.75326385\n",
      " 41.63187515 50.69417909 49.20314048 53.46080466 53.57921419 50.50707966\n",
      " 48.98491737 50.85582297 45.63680791 49.28995667 52.18308595 50.421677\n",
      " 53.05644951 50.08913843 50.02852558 47.88154782 56.21642243 53.88261052\n",
      " 44.33589186 52.49770984 53.44784398 53.9156646  52.67384613 50.15309738\n",
      " 47.37449912 52.62768859 56.96703451 51.94961161 47.21492964 52.12185532\n",
      " 51.41614861 53.72154535 51.97935549 50.74199619 56.38212548 47.01982442\n",
      " 48.84257992 46.97340828 52.4459537  49.97294727 50.02420029 48.10749427\n",
      " 49.8520246  53.5956853  47.23230106 49.50022894 53.17506809 45.35913772\n",
      " 52.64589163 47.55469911 50.90252349 52.77999275 52.36408    52.60746112\n",
      " 49.12289341 51.94372632 50.77073902 54.43573844 55.37416797 45.99609101\n",
      " 49.56812386 51.73737808 49.31762685 46.86050495 52.55178839 51.78286228\n",
      " 44.84810891 56.6170249  50.47566173 48.76187718 47.17642098 54.000721\n",
      " 51.83503191 54.05891459 45.29290464 51.33512189 51.70943512 50.87822059\n",
      " 50.05623437 52.04589085 50.247558   53.16040163]\n",
      "Train score:  0.010530495941064477\n",
      "Test score:  -0.021220989549855407\n"
     ]
    }
   ],
   "source": [
    "linear_regressor = LinearRegression()\n",
    "\n",
    "# fitting the dataset\n",
    "model = linear_regressor.fit(X_train, y_train)\n",
    "\n",
    "# prediction\n",
    "prediction = linear_regressor.predict(X_test)\n",
    "print(prediction)\n",
    "\n",
    "print(\"Train score: \", linear_regressor.score(X_train, y_train))\n",
    "print(\"Test score: \", linear_regressor.score(X_test, y_test))\n",
    "\n",
    "# prediction on new data values\n",
    "# prediction = linear_regressor.predict([])\n",
    "# print(\"The predicted spending score is: \", prediction)"
   ]
  },
  {
   "cell_type": "markdown",
   "id": "238b07cf",
   "metadata": {},
   "source": [
    "### Support Vector Machine Algorithm"
   ]
  },
  {
   "cell_type": "code",
   "execution_count": 28,
   "id": "203d86e8",
   "metadata": {},
   "outputs": [
    {
     "name": "stdout",
     "output_type": "stream",
     "text": [
      "[50.841375   49.45516043 52.24851413 51.8177066  49.73799239 51.95224766\n",
      " 51.73507705 50.77805266 47.99111141 49.49845279 49.19557908 48.88715401\n",
      " 51.03513353 51.57717173 52.351764   48.89623355 50.82899953 48.31758889\n",
      " 52.24814047 51.05094232 49.77086191 48.94866564 52.01539206 50.75449368\n",
      " 48.9483375  49.63556817 49.86826107 52.23548114 51.99601597 48.14566918\n",
      " 52.07740744 49.10220517 49.45239064 51.44438239 51.81064528 50.05727541\n",
      " 51.70005755 48.64761608 52.2203949  48.16821708 48.02316098 51.93204024\n",
      " 48.37115159 48.47160424 49.77145285 50.76334508 50.05141524 48.76562516\n",
      " 50.29709415 52.19295365 51.11638065 47.92177092 52.1568571  48.00306567\n",
      " 50.95622417 51.92330674 49.30460637 50.8431559  51.19845303 48.81521953\n",
      " 49.77681345 49.56031196 49.65678149 48.34729339 48.27723245 52.15118937\n",
      " 49.04269656 48.94609444 48.18164992 50.03678681 51.6195733  49.13351287\n",
      " 50.98836125 51.0026872  49.95292331 51.01381843 48.84329018 51.22014594\n",
      " 51.24790896 49.18983788 50.68454629 51.83685118 52.13853728 50.48941715\n",
      " 51.2443424  49.23712295 49.38412945 48.77627294 49.8814381  48.71923534\n",
      " 48.82798116 51.16096234 48.65629325 49.99874198 51.75626853 48.21412959\n",
      " 50.22624738 49.18602062 51.65840462 51.59879951 48.84204013 48.91737305\n",
      " 49.66610487 49.61983741 48.48175899 52.19575868 52.06070641 48.2874773\n",
      " 49.25038782 50.05603736 51.04497306 49.06355798 48.74378508 48.15162274\n",
      " 48.69286054 50.26487604 50.92523931 49.87592692 49.1839506  51.84754742\n",
      " 48.52910698 49.8517756  48.80780751 52.35155528 51.28869291 49.61301706\n",
      " 48.4950741  49.2710361  51.67721518 52.31310622 50.3843846  50.32127688\n",
      " 52.14198784 51.7471294  52.30790217 49.09807693 50.82488004 51.19297324\n",
      " 50.66248463 51.57104661 50.41826862 51.16074699 52.24394632 50.67085296\n",
      " 48.70650979 51.10374393 51.64036533 48.27175026 47.85510865 48.29644294\n",
      " 49.27696056 51.71138322 52.34360551 51.43923123 51.99893304 50.34839154\n",
      " 50.50674246 52.10934447 49.94853544 51.96821441 48.60258603 52.16999075\n",
      " 48.03930164 52.29293788 51.76313466 50.50472617 49.18573734 50.21932071\n",
      " 48.12732325 51.23454039 51.13875448 52.33940048 48.64005912 51.10814642\n",
      " 51.64494538 51.57888352 49.28942496 49.08901129 51.71041089 49.37478206\n",
      " 50.63032736 48.44014486 50.7839796  52.10970706 48.52168808 51.94567109\n",
      " 50.94777399 49.27992191 52.26102472 52.10387972 51.91130327 50.25440179\n",
      " 50.92547148 47.92387022 48.19570681 51.98106588 50.04137488 52.28043438\n",
      " 50.57557043 52.18454104 48.28349198 49.60101205 50.79402375 49.82946264\n",
      " 52.35857066 48.26613199 52.11158481 49.15750234 50.38306095 49.20414239\n",
      " 51.7103769  48.48554102 48.07426712 49.40279596 49.00098051 51.54216437\n",
      " 51.77040564 52.2251254  48.75974464 48.36555918 51.62857677 49.5045385\n",
      " 52.34275506 51.46130105 48.15313239 52.19444683 49.43840337 48.94085257\n",
      " 48.87975111 52.03664086 52.16742542 49.83567545 52.23119861 51.67671942\n",
      " 49.83722928 52.17405823 49.95367626 49.39634382 52.26327256 52.15371586\n",
      " 52.32318192 48.78208906 49.12079025 51.72312202 51.98478179 48.53341644\n",
      " 48.85338135 51.01704395 51.27146411 49.62015957 51.86181846 49.62845725\n",
      " 51.76153553 52.34492721 52.17830106 48.79362589 50.13343179 50.99306744\n",
      " 49.5168935  49.22566054 50.68303812 48.29380936 48.75641321 48.79440357\n",
      " 50.79129511 50.18704779 50.37231661 48.69522955 48.74362788 51.42883358\n",
      " 49.78179156 52.19019271 49.66892251 50.20711419 51.44878403 51.93170639\n",
      " 50.12394354 48.43479972 50.34914445 49.15621028 49.38927539 49.70673261\n",
      " 51.61224382 49.94290425 49.42211635 50.17420404 49.53537022 51.61847438\n",
      " 48.00381031 48.27499971 51.66291528 50.91013481 49.11151419 49.90386653\n",
      " 50.92825001 52.3375011  47.89300064 48.95603114 50.50005653 51.65456227\n",
      " 51.48421976 49.02272249 51.36535877 51.8880416  52.12761024 52.21577338\n",
      " 48.7190939  51.75269787 48.46795067 48.35421838 50.3023641  52.13326132\n",
      " 49.66550739 50.43247575 48.33245287 49.75533962 50.28052954 49.52708722\n",
      " 48.53742232 51.27113261 49.24368194 52.15016736 48.66574848 52.17227268\n",
      " 51.6078523  48.56859366 48.68395169 52.2441084  51.57592773 51.82575157\n",
      " 51.9524585  52.27902046 48.93490558 51.58207167 51.33130603 51.8139563\n",
      " 51.02305545 49.21053857 50.72239496 51.90510111 52.26641244 51.93910788\n",
      " 48.89983159 52.10193018 50.68258302 48.17623386 48.98871472 48.31273265\n",
      " 50.23329342 52.02420117 48.19739192 51.82852681 51.08256421 52.04314743\n",
      " 47.93016707 49.10101963 52.22146106 52.06540784 51.7173841  48.34358639\n",
      " 48.62347567 50.41905674 49.75727541 47.94821203 51.61774598 50.39097358\n",
      " 49.64481887 51.49506006 48.91255691 48.17571419 50.23982423 48.41913907\n",
      " 49.75326474 52.08131072 52.16948045 52.25542602 50.05476986 49.0421381\n",
      " 50.20759218 49.68100806 52.26056679 49.35945889 50.58074903 52.19494108\n",
      " 50.47286646 50.83819678 52.34321844 52.10542335 50.37517518 49.62659527\n",
      " 50.79954724 50.56999112 52.08886484 48.98419582 49.40938723 51.44999097\n",
      " 52.25613617 52.15866971 48.25009485 50.46452898]\n",
      "Train score:  0.0033230979438316766\n",
      "Test score:  -0.0006231218766634683\n"
     ]
    }
   ],
   "source": [
    "svm = SVR(kernel=\"rbf\", C=100.0)\n",
    "\n",
    "# fitting data\n",
    "svm.fit(X_train, y_train)\n",
    "\n",
    "# prediction\n",
    "prediction = svm.predict(X_test)\n",
    "print(prediction)\n",
    "\n",
    "print(\"Train score: \", svm.score(X_train, y_train))\n",
    "print(\"Test score: \", svm.score(X_test, y_test))"
   ]
  },
  {
   "cell_type": "markdown",
   "id": "57453750",
   "metadata": {},
   "source": [
    "### Random Forest Algorithm"
   ]
  },
  {
   "cell_type": "code",
   "execution_count": 29,
   "id": "1f8904e8",
   "metadata": {},
   "outputs": [
    {
     "name": "stdout",
     "output_type": "stream",
     "text": [
      "[45.84 53.23 41.83 56.19 41.51 53.8  62.66 47.96 54.57 66.85 46.4  57.29\n",
      " 63.72 48.74 72.   51.18 64.69 48.22 45.6  49.75 49.17 58.42 80.94 59.62\n",
      " 43.01 43.72 43.74 37.68 41.54 60.1  44.54 43.42 50.01 60.59 44.93 55.14\n",
      " 46.95 59.17 52.17 38.67 51.8  55.65 65.91 52.68 41.91 37.42 50.92 45.7\n",
      " 55.85 52.11 45.91 60.81 60.26 59.12 38.56 67.97 46.06 54.71 39.6  58.1\n",
      " 51.91 61.81 41.37 47.21 60.5  41.85 54.58 38.71 49.76 53.22 66.31 44.78\n",
      " 45.78 44.51 41.66 37.19 38.61 44.18 66.2  50.91 63.3  41.93 61.43 54.78\n",
      " 68.73 60.24 56.13 42.4  44.83 37.98 56.47 46.23 51.69 55.4  60.58 47.26\n",
      " 52.31 48.55 46.58 56.34 59.06 42.81 39.35 47.09 61.67 51.96 51.97 54.14\n",
      " 60.05 49.93 54.35 54.52 45.33 51.65 49.39 53.19 49.2  46.17 54.08 45.52\n",
      " 45.03 39.15 50.29 53.84 65.6  56.62 48.06 52.33 57.74 60.36 53.32 51.02\n",
      " 59.56 58.19 48.38 49.21 62.88 53.2  55.45 53.27 60.42 61.95 41.63 53.37\n",
      " 42.83 57.88 64.3  49.98 58.24 54.39 52.25 46.87 54.96 49.44 52.91 50.57\n",
      " 54.39 54.31 51.89 47.5  39.23 67.18 42.34 47.01 71.73 41.72 40.14 55.67\n",
      " 56.44 49.31 56.19 45.   46.48 60.56 49.61 49.93 46.83 48.24 48.12 46.57\n",
      " 52.63 42.98 47.22 49.75 46.54 44.53 62.93 44.05 35.44 35.77 47.84 41.13\n",
      " 41.82 66.56 50.43 38.89 55.8  54.44 50.63 58.3  50.02 60.55 55.08 47.1\n",
      " 53.42 63.16 51.05 49.04 44.37 62.75 47.49 47.93 64.2  42.51 43.93 46.4\n",
      " 57.32 49.48 51.32 36.64 41.72 42.01 45.07 43.19 35.37 59.11 56.79 54.64\n",
      " 47.   51.88 51.12 46.61 47.38 43.19 37.01 60.55 48.55 56.65 56.08 67.92\n",
      " 63.91 48.19 27.08 71.46 51.21 45.65 57.66 61.91 50.19 42.46 49.42 54.3\n",
      " 48.23 53.73 56.24 55.53 51.27 45.96 40.39 45.84 53.6  45.8  33.54 33.41\n",
      " 41.99 37.25 43.9  69.12 50.05 43.93 51.23 71.61 50.58 55.15 65.33 66.23\n",
      " 39.51 58.26 32.2  48.74 49.16 60.32 51.02 61.17 48.64 45.3  58.7  46.23\n",
      " 45.83 47.45 68.09 37.84 53.37 48.49 46.81 57.27 63.66 49.05 56.17 58.5\n",
      " 57.43 51.8  46.6  44.28 65.47 38.   50.27 50.97 58.52 37.31 58.25 57.24\n",
      " 42.25 64.19 44.08 54.91 48.47 39.9  44.55 60.47 44.49 59.48 52.42 55.44\n",
      " 46.53 44.73 42.44 50.46 59.33 46.17 42.33 52.11 41.1  40.42 52.69 53.89\n",
      " 47.8  54.54 57.08 65.28 58.5  57.27 51.09 48.64 61.02 43.03 38.99 47.17\n",
      " 40.66 47.01 67.7  42.72 55.85 48.55 59.26 53.63 56.25 54.15 42.78 41.93\n",
      " 51.24 53.73 46.07 35.76 64.15 39.95 48.99 46.44 50.59 43.77 48.77 33.28\n",
      " 50.07 48.24 45.58 62.14 48.64 52.22 55.97 63.35 59.29 38.25 62.02 53.12\n",
      " 52.91 65.01 64.34 45.19 60.24 47.64 48.41 51.63 51.55 48.65 53.9  54.65\n",
      " 52.36 43.06 46.57 54.4 ]\n",
      "Train score:  0.8556303030275791\n",
      "Test score:  -0.05839896876006723\n"
     ]
    }
   ],
   "source": [
    "regressor = RandomForestRegressor()\n",
    "\n",
    "# fitting dataset\n",
    "model = regressor.fit(X_train, y_train)\n",
    "\n",
    "# prediction\n",
    "prediction = regressor.predict(X_test)\n",
    "print(prediction)\n",
    "\n",
    "print(\"Train score: \", regressor.score(X_train, y_train))\n",
    "print(\"Test score: \", regressor.score(X_test, y_test))"
   ]
  },
  {
   "cell_type": "markdown",
   "id": "15a81a6a",
   "metadata": {},
   "source": [
    "### Decision Tree Algorithm"
   ]
  },
  {
   "cell_type": "code",
   "execution_count": 30,
   "id": "8a0c399c",
   "metadata": {},
   "outputs": [
    {
     "name": "stdout",
     "output_type": "stream",
     "text": [
      "[ 73.  51. 100.  79.  46.  75.  97.  40.  88.  33.  47.  76.  95.  22.\n",
      "  99.  91.  84.  46.  22.  51.  48.  84.  97.  59.  46.   5.   4.   3.\n",
      "  29.  72.  58.  88.  16.  86.  13.  92.  50.  79.  88.  58.  34.  83.\n",
      "  80.  31.  49.  32.  81.  19.  56.  78.  44.  82.  36.  14.  57.  77.\n",
      "  11.  84.  21.  96.  87.  94.   5.  30.  38.  21.   1.  48.  46.   7.\n",
      "  90.  78.  24.  70.  26.  50.  22.  27.  38.  62.  42.  24. 100.   4.\n",
      "  71.  65.  53.  20.  57.   3.  60.  36.   0.  91.  90.   2.  49.  18.\n",
      "  90.  64.  85.  37.  25.  82.  99.  84.  20.  62.  21.  60.  86.  87.\n",
      "  54.  69.  77.  25.  65.  35.  73.  46.  93.  88.  91.   3.  98.  59.\n",
      "  53.  11.  69.  83.  50.  73.  92.  87.  48.  80.  78.  23.  46.  96.\n",
      "  49.  38.  13.  37.  22.  91.  43.  19.  14.  75.  22.   1.  45.  70.\n",
      "  39.  42.  84.  92.  16.  77.  77.  42.  52.  18.  78.  54.  34.  83.\n",
      "  63.  73.  72.  94.   4.  77.  29.  74.  13.  83.  34. 100.  36.  36.\n",
      "  73.  12.  50.  65.  92.  37.   5.   8.  40.  16.  45.  14.  86.  21.\n",
      "  17.  26.  12.  62.   1.  49.  75.  52.  67.  96.  27.  62.  43.  82.\n",
      "  74.  51.  88.  16.  57.  24.  95.  28.  97.  23.  10.  59.   2.  10.\n",
      "  48.  42.  85.  50.  37.  95.  49.  23.  45.  92.  41.  78.  95.  11.\n",
      "  94.  42.  89.  77.  66.  72.  45.   9.   9.  23.  32.  56.  37.  44.\n",
      "  33.  17.  46.  84.  24.  23.  73.  36.  34.  60.  14.  30.  43.  10.\n",
      "   3.  87.  33.  21.  68.  96.  87.   4.  37.  82.  40.  50.  73.  44.\n",
      "  80.  58.  83.   4.  75.  49.  99.  88.  51.  10.  88.  74.  99.   4.\n",
      "  25.  58.  89.  47.  80.  34.  70.  50.  73.  74.  42.  22.  17.   4.\n",
      "  83.  26.  96.  77.   4.  88.  15.  65.  60.  11.  11.  59.  14.  62.\n",
      "  75.  39.  10.  26.  97.  90.  94.  27.  71.  17.   6.  66.  96.  77.\n",
      "   3.  66.  97. 100.  31.  84.  96.  36.  86.  50.  88.  60.  34.  16.\n",
      "  73.  30.  52.  16.  40.  85.  63.  39.  96.  75.  90.  30.  97.  91.\n",
      "  21.   3.  10.  21.  45.  57.   3.  16.  47.  13.  31.  62.  47.  34.\n",
      "  77.  85.  20.   4.  25.  76.  68.  77.  51.  78.  83.  45.  44.  77.\n",
      "  56.  59.  87.  39.  89.  23.  10.  29.]\n",
      "Train score:  1.0\n",
      "Test score:  -0.8927112210206085\n"
     ]
    }
   ],
   "source": [
    "regressor_2 = DecisionTreeRegressor()\n",
    "\n",
    "# fitting dataset\n",
    "model = regressor_2.fit(X_train, y_train)\n",
    "\n",
    "# prediction\n",
    "prediction = regressor_2.predict(X_test)\n",
    "print(prediction)\n",
    "\n",
    "print(\"Train score: \", regressor_2.score(X_train, y_train))\n",
    "print(\"Test score: \", regressor_2.score(X_test, y_test))"
   ]
  },
  {
   "cell_type": "code",
   "execution_count": null,
   "id": "c91a4dba",
   "metadata": {},
   "outputs": [],
   "source": []
  }
 ],
 "metadata": {
  "kernelspec": {
   "display_name": "Python 3 (ipykernel)",
   "language": "python",
   "name": "python3"
  },
  "language_info": {
   "codemirror_mode": {
    "name": "ipython",
    "version": 3
   },
   "file_extension": ".py",
   "mimetype": "text/x-python",
   "name": "python",
   "nbconvert_exporter": "python",
   "pygments_lexer": "ipython3",
   "version": "3.9.12"
  }
 },
 "nbformat": 4,
 "nbformat_minor": 5
}
